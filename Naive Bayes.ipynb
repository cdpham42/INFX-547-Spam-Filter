{
 "cells": [
  {
   "cell_type": "markdown",
   "metadata": {},
   "source": [
    "# Naive Bayes\n",
    "\n",
    "This notebook is a spam filter based off of a multinomial naive bayes model."
   ]
  },
  {
   "cell_type": "code",
   "execution_count": 18,
   "metadata": {
    "collapsed": true
   },
   "outputs": [],
   "source": [
    "# Import packages\n",
    "\n",
    "import pandas as pd\n",
    "import numpy as np\n",
    "import matplotlib.pyplot as plt\n",
    "import copy\n",
    "from sklearn.naive_bayes import MultinomialNB\n",
    "from sklearn.model_selection import train_test_split\n",
    "from sklearn.feature_extraction.text import CountVectorizer\n",
    "from sklearn.feature_extraction.text import TfidfTransformer\n",
    "from sklearn.metrics import roc_curve, auc\n",
    "\n",
    "np.random.seed(seed=0)\n",
    "%matplotlib inline"
   ]
  },
  {
   "cell_type": "markdown",
   "metadata": {},
   "source": [
    "### Load Data"
   ]
  },
  {
   "cell_type": "code",
   "execution_count": 2,
   "metadata": {},
   "outputs": [
    {
     "name": "stdout",
     "output_type": "stream",
     "text": [
      "['Subject' 'Body' 'From: (Name)' 'From: (Address)' 'From: (Type)'\n",
      " 'Importance' 'type']\n"
     ]
    },
    {
     "data": {
      "text/plain": [
       "495"
      ]
     },
     "execution_count": 2,
     "metadata": {},
     "output_type": "execute_result"
    }
   ],
   "source": [
    "# Load Data\n",
    "\n",
    "email = pd.read_csv(\"email.csv\")\n",
    "\n",
    "email.head()\n",
    "email.tail()\n",
    "print(email.columns.values)\n",
    "\n",
    "email.fillna(\"n\", inplace=True)\n",
    "\n",
    "for em in email[\"Subject\"].tolist():\n",
    "    if not isinstance(em, str):\n",
    "        print(em)\n",
    "\n",
    "len(email)"
   ]
  },
  {
   "cell_type": "markdown",
   "metadata": {},
   "source": [
    "### Bags of Words\n",
    "\n",
    "As we are working with text data, and models are unable to work with strings as input data, we need to convert them to numbers. Bags of Words will allow us to count and vectorize all words in a given set, then transform the strings into series of numbers that represent the words for the model to work with."
   ]
  },
  {
   "cell_type": "code",
   "execution_count": 3,
   "metadata": {},
   "outputs": [
    {
     "name": "stdout",
     "output_type": "stream",
     "text": [
      "dict_keys(['Subject', 'Body', 'From: (Name)', 'From: (Address)', 'From: (Type)', 'Importance', 'type'])\n",
      "(495, 1093)\n",
      "(495, 13318)\n",
      "(495, 444)\n",
      "(495, 555)\n",
      "(495, 1)\n",
      "(495, 1)\n",
      "(495, 2)\n"
     ]
    }
   ],
   "source": [
    "# Bags of Words\n",
    "\n",
    "corpus = {}\n",
    "\n",
    "for col in email.columns.values:\n",
    "    vectorizer = CountVectorizer()\n",
    "    features = vectorizer.fit_transform(email[col]).todense()\n",
    "    corpus[col] = features\n",
    "\n",
    "print(corpus.keys())\n",
    "\n",
    "# Term Frequency times Inverse Document Frequenct (tf-idf)\n",
    "\n",
    "corpus_tfidf = {}\n",
    "for col in email.columns.values:\n",
    "    tfidf_transformer = TfidfTransformer()\n",
    "    corpus_tfidf[col] = tfidf_transformer.fit_transform(corpus[col]).todense()\n",
    "    print(corpus_tfidf[col].shape)"
   ]
  },
  {
   "cell_type": "markdown",
   "metadata": {},
   "source": [
    "### Splitting Features\n",
    "\n",
    "Here the desired features are split into separate dataframes. This is because each feature, when converted to bags of words, is a matrix of the features and their bags of words. Creating a dataframe where each element is a matrix is impossible, so to get around this I am splitting each desired feature into its own dataframe, and as necessary concatenating dataframes to combine features."
   ]
  },
  {
   "cell_type": "code",
   "execution_count": 4,
   "metadata": {},
   "outputs": [],
   "source": [
    "subject = pd.DataFrame(corpus_tfidf[\"Subject\"])\n",
    "\n",
    "body = pd.DataFrame(corpus_tfidf[\"Body\"])\n",
    "\n",
    "fromname = pd.DataFrame(corpus_tfidf[\"From: (Name)\"])\n",
    "\n",
    "fromaddress = pd.DataFrame(corpus_tfidf[\"From: (Address)\"])\n",
    "\n",
    "fromtype = pd.DataFrame(corpus_tfidf[\"From: (Type)\"])\n",
    "\n",
    "spam = pd.DataFrame(corpus_tfidf[\"type\"])\n",
    "spam = spam[1]"
   ]
  },
  {
   "cell_type": "markdown",
   "metadata": {},
   "source": [
    "### Multinomial Naive Bayes Model"
   ]
  },
  {
   "cell_type": "code",
   "execution_count": 5,
   "metadata": {
    "collapsed": true
   },
   "outputs": [],
   "source": [
    "def multinb(x, y):\n",
    "    \"\"\"\n",
    "    \n",
    "    This function performs the required functions for fitting and prediction a Multinomial Naive Bayes\n",
    "    from given x and y datasets.\n",
    "    \n",
    "    Args:\n",
    "        x (array-like): independent data\n",
    "        y (array-like): target data\n",
    "        \n",
    "    Return:\n",
    "        score (float): Mean accuracy of the model on the given test and target data\n",
    "    \n",
    "    \"\"\"\n",
    "    # Train Test Split\n",
    "    X_train, X_test, y_train, y_test = train_test_split(x, y, test_size = 0.33, random_state = 0)\n",
    "    \n",
    "    # Fit and predict model\n",
    "    multinb = MultinomialNB()\n",
    "    multinb.fit(X_train, y_train)\n",
    "    \n",
    "    predicted = multinb.predict(X_test)\n",
    "    predicted\n",
    "    \n",
    "    multinb.predict(X_test)\n",
    "    score = multinb.score(X_test, y_test)\n",
    "    \n",
    "    # Plot\n",
    "#     x_axis = range(len(X_test))\n",
    "\n",
    "#     fig,ax = plt.subplots(figsize=(15,10))\n",
    "#     ax.scatter(x_axis, predicted, alpha = 0.3)\n",
    "#     ax.scatter(x_axis, y_test, alpha = 0.3)\n",
    "    \n",
    "    return score"
   ]
  },
  {
   "cell_type": "markdown",
   "metadata": {},
   "source": [
    "### Results\n",
    "\n",
    "Below is the model run for each feature-set, with the accuracy score printed and a scatter plot of each prediction vs test point."
   ]
  },
  {
   "cell_type": "code",
   "execution_count": 7,
   "metadata": {},
   "outputs": [
    {
     "name": "stdout",
     "output_type": "stream",
     "text": [
      "Model Mean Accuracy [Subject]: 0.762195121951\n",
      "\n",
      "Model Mean Accuracy [Body]: 0.853658536585\n",
      "\n",
      "Model Mean Accuracy [From Name]: 0.90243902439\n",
      "\n",
      "Model Mean Accuracy [From Address]: 0.914634146341\n",
      "\n",
      "Model Mean Accuracy [From Type]: 0.689024390244\n",
      "\n",
      "Model Mean Accuracy [Subject + Body]: 0.896341463415\n",
      "\n",
      "Model Mean Accuracy [Subject + Body + From Name]: 0.939024390244\n",
      "\n",
      "Model Mean Accuracy [Subject + Body + From Address]: 0.94512195122\n"
     ]
    }
   ],
   "source": [
    "subjectscore = multinb(subject, spam)\n",
    "print(\"Model Mean Accuracy [Subject]:\", subjectscore)\n",
    "\n",
    "bodyscore = multinb(body, spam)\n",
    "print(\"\\nModel Mean Accuracy [Body]:\", bodyscore)\n",
    "\n",
    "fnamescore = multinb(fromname, spam)\n",
    "print(\"\\nModel Mean Accuracy [From Name]:\", fnamescore)\n",
    "\n",
    "faddscore = multinb(fromaddress, spam)\n",
    "print(\"\\nModel Mean Accuracy [From Address]:\", faddscore)\n",
    "\n",
    "ftypescore = multinb(fromtype, spam)\n",
    "print(\"\\nModel Mean Accuracy [From Type]:\", ftypescore)\n",
    "\n",
    "subbodscore = multinb(pd.concat([subject, body], axis=1), spam)\n",
    "print(\"\\nModel Mean Accuracy [Subject + Body]:\", subbodscore)\n",
    "\n",
    "subbodfnamescore = multinb(pd.concat([subject, body, fromname], axis=1), spam)\n",
    "print(\"\\nModel Mean Accuracy [Subject + Body + From Name]:\", subbodfnamescore)\n",
    "\n",
    "subbodfaddscore = mult"
   ]
  },
  {
   "cell_type": "markdown",
   "metadata": {},
   "source": [
    "### ROC Curve"
   ]
  },
  {
   "cell_type": "code",
   "execution_count": 38,
   "metadata": {},
   "outputs": [],
   "source": [
    "# Compute ROC curve and ROC area for best model\n",
    "\n",
    "# Need the y_test data and prediction probabilities\n",
    "X_train, X_test, y_train, y_test = train_test_split(pd.concat([subject, body, fromname], axis=1), spam,\n",
    "                                                               test_size = 0.33, random_state = 0)\n",
    "\n",
    "# Fit and get prediction probabilities\n",
    "multinb = MultinomialNB()\n",
    "predict_prob = multinb.fit(X_train, y_train).predict_proba(X_test)\n",
    "\n",
    "fpr = dict()\n",
    "tpr = dict()\n",
    "roc_auc = dict()\n",
    "fpr, tpr, _ = roc_curve(y_test, predict_prob[:,1])\n",
    "roc_auc = auc(fpr, tpr)"
   ]
  },
  {
   "cell_type": "code",
   "execution_count": 53,
   "metadata": {},
   "outputs": [
    {
     "data": {
      "image/png": "[encoded data removed]",
      "text/plain": [
       "<matplotlib.figure.Figure at 0x20125558f60>"
      ]
     },
     "metadata": {},
     "output_type": "display_data"
    }
   ],
   "source": [
    "fig,ax = plt.subplots(figsize=(10,7))\n",
    "lw = 2\n",
    "ax.plot(fpr, tpr, color='darkorange',\n",
    "         lw=lw, label='ROC curve (area = %0.2f)' % roc_auc)\n",
    "ax.plot([0, 1], [0, 1], color='navy', lw=lw, linestyle='--')\n",
    "ax.set_xlim([0.0, 1.0])\n",
    "ax.set_ylim([0.0, 1.05])\n",
    "ax.set_xlabel('False Positive Rate', fontsize=14)\n",
    "ax.set_ylabel('True Positive Rate', fontsize=14)\n",
    "ax.set_title('Receiver operating characteristic', fontsize=16)\n",
    "ax.legend(loc=\"lower right\", fontsize=12)\n",
    "ax.tick_params(axis=\"both\", labelsize=12)"
   ]
  }
 ],
 "metadata": {
  "anaconda-cloud": {},
  "kernelspec": {
   "display_name": "Python 3",
   "language": "python",
   "name": "python3"
  },
  "language_info": {
   "codemirror_mode": {
    "name": "ipython",
    "version": 3
   },
   "file_extension": ".py",
   "mimetype": "text/x-python",
   "name": "python",
   "nbconvert_exporter": "python",
   "pygments_lexer": "ipython3",
   "version": "3.6.3"
  }
 },
 "nbformat": 4,
 "nbformat_minor": 2
}
